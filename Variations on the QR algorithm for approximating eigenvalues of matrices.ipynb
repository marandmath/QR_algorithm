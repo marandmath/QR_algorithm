{
 "cells": [
  {
   "cell_type": "markdown",
   "id": "4457c0f8",
   "metadata": {},
   "source": [
    "<h1 align=\"center\">The theory behind the QR algortihm and its different variations implemented in Python</h1>\n",
    "    \n",
    "This algorithm is solely based on the QR factorisation of matrices in $\\mathbb{R}^{mxn}$ and it is one of the most modern methods for approximating the eigenvalues of a matrix. Throughout this method, although it is not necessary, we assume that the matrix that we are trying to approximate its eigenvalues is invertible so its QR decomposition is unique, if we also require the diagonal elements of the upper triangular matrix $R$ such as $A=QR$ where $Q$  is unitary (orthogonal if the matrix that we start with is real), that is $Q^*=Q^{-1}$, **to be positive**. Below we see the one practical way that we saw in our notes on how to find the QR factorisation of our starting matrix (the Gram-Schmidt way is not studied here due to its numerical instability - see Linear Algebra II notes on how that method works and the QR Decomposition using Givens Rotations is impractical and outshined by the Householder method discussed below), and then we see the 3 variations of the QR algorithm that we studies in our lecture notes.\n",
    "\n",
    "But like we said, its important to note that the requirement that A is invertible is NOT essential - any matrix (even non square and even singular) can assume a QR decomposition - its just not going to be unique, up to the matrix $R$! \n",
    "\n",
    "___\n",
    "\n",
    "<h3 align=\"center\">QR decomposition using Householder reflections</h3>\n",
    "\n",
    "A Householder reflection is a matrix $P \\in \\mathbb{C}^{nxn}$ where: $P=I_n-2\\frac{\\vec{v}\\vec{v}^*}{\\vec{v}^*\\vec{v}}$ and $\\vec{v} \\in \\mathbb{C}^n$.\n",
    "\n",
    "It is known that P is hermitian ($P^*=P$) and unitary ($P^*=P^{-1}$) so its an **involution** - $P^2=I_n$.\n",
    "\n",
    "Now it is possible for every $\\vec{x} \\in \\mathbb{C}^n$ to find a Householder transformation $P=P(\\vec{x})$ such as, if $\\vec{x}=(x_1,\\dots,x_n)^T$ then:\n",
    "\n",
    "\\begin{align}\n",
    "    P\\vec{x} &= P\\begin{pmatrix}\n",
    "                  x_{1} \\\\\n",
    "                  x_{2} \\\\\n",
    "                  \\vdots \\\\\n",
    "                  x_k \\\\\n",
    "                  x_{k+1} \\\\\n",
    "                  \\vdots \\\\\n",
    "                  x_{j-1} \\\\\n",
    "                  x_j \\\\\n",
    "                  \\vdots \\\\\n",
    "                  x_{n}\n",
    "                  \\end{pmatrix} \\\\\n",
    "             &= \\begin{pmatrix}\n",
    "                  x_{1} \\\\\n",
    "                  x_{2} \\\\\n",
    "                  \\vdots \\\\\n",
    "                  x_{k-1} \\\\\n",
    "                  -sgn(x_k)\\alpha \\\\\n",
    "                  0 \\\\\n",
    "                  \\vdots \\\\\n",
    "                  0 \\\\\n",
    "                  x_{j+1} \\\\\n",
    "                  \\vdots \\\\\n",
    "                  x_{n}\n",
    "                  \\end{pmatrix}\n",
    "\\end{align}\n",
    "\n",
    "where $\\alpha=||\\vec{y}||_2$ (2-norm in $\\mathbb{C}^n$ (or $\\mathbb{R}^n$)) where $\\vec{y}=\\begin{pmatrix}\n",
    "                  x_{k} \\\\\n",
    "                  x_{k+1} \\\\\n",
    "                  \\vdots \\\\\n",
    "                  x_{j}\n",
    "                  \\end{pmatrix} \\in \\mathbb{C}^{j-k+1}$\n",
    "                  \n",
    "Now we proved in our notes that this matrix is none other than:\n",
    "\n",
    "\\[ P=I_n-2\\frac{\\vec{v}\\vec{v}^*}{\\vec{v}^*\\vec{v}}  \\]\n",
    "\n",
    "for $\\vec{v}= \\begin{pmatrix}\n",
    "                  0 \\\\\n",
    "                  \\vdots \\\\\n",
    "                  0 \\\\\n",
    "                  x_{k} + sgn(x_k)\\alpha \\\\\n",
    "                  x_{k+1} \\\\\n",
    "                  \\vdots \\\\\n",
    "                  x_{j} \\\\\n",
    "                  0 \\\\\n",
    "                  \\vdots \\\\\n",
    "                  0\n",
    "                  \\end{pmatrix} \\in \\mathbb{C}^n $\n",
    "                  \n",
    "Now this is essential in our methodology for the QR decomposition because we can use these Householder transformations in the following way:\n",
    "\n",
    "![qr decomposition](QR.jpg)\n",
    "\n",
    "Essentially $H_i$ is a Householder matrix, that transforms the $i$-th column in the manner discussed above, of the product $H_{i-1}A, \\ \\forall i=1,\\dots,n$ - this works due to the definition of matrix multiplication where if $C$ and $D$ matrices (where for simplicity both are $nxn$ square matrices), then if $\\vec{d}_1,\\dots,\\vec{d}_ n$ the $n$ columns of matrix $D$:\n",
    "\n",
    "\\[ CD = \\begin{pmatrix}\n",
    "        \\uparrow  \\ \\  \\dots \\ \\ \\uparrow \\\\\n",
    "        C\\vec{d}_1 \\ \\ \\dots \\ \\ C\\vec{d}_n \\\\\n",
    "        \\downarrow  \\ \\  \\dots \\ \\ \\downarrow \\\\\n",
    "        \\end{pmatrix} \\]\n",
    "        \n",
    "Although there is already a QR decomposition function in Python under the numpy module - `numpy.linalg.qr`, we create a function here for educational purposes, using the above methodology:"
   ]
  },
  {
   "cell_type": "code",
   "execution_count": 1,
   "id": "c418e6b2",
   "metadata": {},
   "outputs": [],
   "source": [
    "import numpy as np\n",
    "import sympy\n",
    "from functools import reduce\n",
    "sympy.init_printing(use_latex=\"mathjax\")\n",
    "\n",
    "def qr_householder(A):\n",
    "    \"\"\"A function that calculates the QR decomposition of the input matrix A\n",
    "    and outputs the resulting matrices using sympy and also returns them as np.arrays\"\"\"\n",
    "    try:\n",
    "        if np.linalg.det(A) == 0:\n",
    "            print(\"For our implementation A has to be an invertible matrix, please try again.\")\n",
    "            return None\n",
    "    except numpy.linalg.LinAlgError:\n",
    "        print(\"For our implementation A has to be a square matrix, please try again.\")\n",
    "        return None\n",
    "    n = A.shape[0]\n",
    "    R = A; H_list = []\n",
    "    for i in range(n-1):\n",
    "        norm_col = np.linalg.norm(R[i:,i])\n",
    "        first_el = np.array([R[i,i]+norm_col]) # or np.array([R[i,i]-norm_col]) - \n",
    "                                               # doesn't make a difference\n",
    "        if i==0:\n",
    "            v = np.concatenate((first_el,R[i+1:,i]))\n",
    "        else:    \n",
    "            v = np.concatenate((np.zeros((i)),first_el,R[i+1:,i]))\n",
    "        v.shape = (n,1)\n",
    "        H = np.eye(n)-2*(v @ np.transpose(v))/np.linalg.norm(v)**2\n",
    "        H_list.append(H)\n",
    "        R = H @ R\n",
    "    Q = reduce(lambda X,Y: X @ Y, H_list)\n",
    "    return [Q, R]"
   ]
  },
  {
   "cell_type": "code",
   "execution_count": 2,
   "id": "d263950c",
   "metadata": {},
   "outputs": [],
   "source": [
    "# Testing to see if everything is okay\n",
    "A = np.array([[12, -51, 4], [6, 167, -68], [-4, 24, -41]])\n",
    "Q, R = qr_householder(A)"
   ]
  },
  {
   "cell_type": "code",
   "execution_count": 3,
   "id": "bca6aac4",
   "metadata": {},
   "outputs": [
    {
     "data": {
      "text/latex": [
       "$\\displaystyle \\left[\\begin{matrix}-0.857142857142857 & 0.394285714285714 & 0.331428571428571\\\\-0.428571428571429 & -0.902857142857143 & -0.0342857142857143\\\\0.285714285714286 & -0.171428571428571 & 0.942857142857143\\end{matrix}\\right]$"
      ],
      "text/plain": [
       "⎡-0.857142857142857  0.394285714285714    0.331428571428571 ⎤\n",
       "⎢                                                           ⎥\n",
       "⎢-0.428571428571429  -0.902857142857143  -0.0342857142857143⎥\n",
       "⎢                                                           ⎥\n",
       "⎣0.285714285714286   -0.171428571428571   0.942857142857143 ⎦"
      ]
     },
     "execution_count": 3,
     "metadata": {},
     "output_type": "execute_result"
    }
   ],
   "source": [
    "sympy.Matrix(Q)"
   ]
  },
  {
   "cell_type": "code",
   "execution_count": 4,
   "id": "bb450851",
   "metadata": {},
   "outputs": [
    {
     "data": {
      "text/latex": [
       "$\\displaystyle \\left[\\begin{matrix}-14.0 & -21.0 & 14.0\\\\-7.7835174203336 \\cdot 10^{-16} & -175.0 & 70.0\\\\-5.33590265989075 \\cdot 10^{-16} & 0.0 & -35.0\\end{matrix}\\right]$"
      ],
      "text/plain": [
       "⎡        -14.0          -21.0   14.0 ⎤\n",
       "⎢                                    ⎥\n",
       "⎢-7.7835174203336e-16   -175.0  70.0 ⎥\n",
       "⎢                                    ⎥\n",
       "⎣-5.33590265989075e-16   0.0    -35.0⎦"
      ]
     },
     "execution_count": 4,
     "metadata": {},
     "output_type": "execute_result"
    }
   ],
   "source": [
    "sympy.Matrix(R) # note that it is indeed, to the accuracy of the \n",
    "                # epsilon of the machine, upper triangular"
   ]
  },
  {
   "cell_type": "code",
   "execution_count": 5,
   "id": "14295b4b",
   "metadata": {},
   "outputs": [
    {
     "data": {
      "text/latex": [
       "$\\displaystyle \\left[\\begin{matrix}12.0 & -51.0 & 4.0\\\\6.0 & 167.0 & -68.0\\\\-4.0 & 24.0 & -41.0\\end{matrix}\\right]$"
      ],
      "text/plain": [
       "⎡12.0  -51.0   4.0 ⎤\n",
       "⎢                  ⎥\n",
       "⎢6.0   167.0  -68.0⎥\n",
       "⎢                  ⎥\n",
       "⎣-4.0  24.0   -41.0⎦"
      ]
     },
     "execution_count": 5,
     "metadata": {},
     "output_type": "execute_result"
    }
   ],
   "source": [
    "sympy.Matrix(Q)*sympy.Matrix(R) # see that we got back A"
   ]
  },
  {
   "cell_type": "markdown",
   "id": "30718005",
   "metadata": {},
   "source": [
    "With this out of the way, its time to see the 3 variations of the QR algorithm that we saw in the class - for more theory see corresponding lectures in \"Numerical Linear Algebra\" from Trefethen and Bau. We will not get into the details of each variation of the algorithm - for why these methods work intuitively (or proven rigorously), see the lecture notes and the handwritten complementary theory and observations accompanying this chapter for this information.\n",
    "\n",
    "### NOTE: \n",
    "### In all the variations below, we can accelerate their order of convergece (the ratio of convergence stays the same - the ratio of 2 consecutive eigenvalues) by first \"*relaxing*\" A with *Householder matrices* and bringing it in its upper triangular Hessenberg form (this is because the QR algorithm *PRESERVES* upper triangular Hesseberg matrices) and then using consecutive *deflations* of the resulting matrices to decrease the number of eigenvalues we need to find, each time we \"pinpoint\" an eigenvalue, thus decreasing the dimensions of the problem each time by 1.\n",
    "\n",
    "___"
   ]
  },
  {
   "cell_type": "markdown",
   "id": "e304bb43",
   "metadata": {},
   "source": [
    "### Simple QR algorithm (withour shifts)"
   ]
  },
  {
   "cell_type": "code",
   "execution_count": 6,
   "id": "f8269491",
   "metadata": {},
   "outputs": [],
   "source": [
    "def simple_qr(A, tol, maxiter):\n",
    "    \"\"\"Uses the simple no-shift QR algorithm to approximate \n",
    "    the eigenvalues of the input matrix\"\"\"\n",
    "    A_new=A\n",
    "    n = 0\n",
    "    while np.linalg.norm(\n",
    "        np.tril(A_new)-np.diag(np.diag(A_new)), ord=2) >= tol and n<maxiter: \n",
    "        # we can use whatever norm we want due to the equivelance of operator \n",
    "        # norms in vector spaces of finite dimensions\n",
    "        Q, R = qr_householder(A_new)\n",
    "        A_new = R @ Q\n",
    "        n += 1\n",
    "    return [np.diag(A_new), n]"
   ]
  },
  {
   "cell_type": "code",
   "execution_count": 7,
   "id": "c0171138",
   "metadata": {},
   "outputs": [],
   "source": [
    "# Testing to see if everything is okay\n",
    "A = np.array([[8, 7, 7], [5, 8, 4], [2, 0, 8]])\n",
    "eigvals, iterations = simple_qr(A, 1E-16, 100)"
   ]
  },
  {
   "cell_type": "code",
   "execution_count": 8,
   "id": "cf139558",
   "metadata": {},
   "outputs": [
    {
     "name": "stdout",
     "output_type": "stream",
     "text": [
      "Number of iterations it took to converge to the \n",
      "          specified tolerace: 45\n"
     ]
    }
   ],
   "source": [
    "print(f\"\"\"Number of iterations it took to converge to the \n",
    "          specified tolerace: {iterations}\"\"\")"
   ]
  },
  {
   "cell_type": "code",
   "execution_count": 9,
   "id": "fa31ef7b",
   "metadata": {},
   "outputs": [
    {
     "data": {
      "text/latex": [
       "$\\displaystyle \\left[\\begin{matrix}15.5135354931502\\\\6.82394694026641\\\\1.66251756658343\\end{matrix}\\right]$"
      ],
      "text/plain": [
       "⎡15.5135354931502⎤\n",
       "⎢                ⎥\n",
       "⎢6.82394694026641⎥\n",
       "⎢                ⎥\n",
       "⎣1.66251756658343⎦"
      ]
     },
     "execution_count": 9,
     "metadata": {},
     "output_type": "execute_result"
    }
   ],
   "source": [
    "# Approximation using the simple QR algorithm\n",
    "sympy.Matrix(eigvals)"
   ]
  },
  {
   "cell_type": "code",
   "execution_count": 10,
   "id": "f7d78555",
   "metadata": {},
   "outputs": [
    {
     "data": {
      "text/latex": [
       "$\\displaystyle \\left[\\begin{matrix}15.5135354931502\\\\1.66251756658343\\\\6.82394694026639\\end{matrix}\\right]$"
      ],
      "text/plain": [
       "⎡15.5135354931502⎤\n",
       "⎢                ⎥\n",
       "⎢1.66251756658343⎥\n",
       "⎢                ⎥\n",
       "⎣6.82394694026639⎦"
      ]
     },
     "execution_count": 10,
     "metadata": {},
     "output_type": "execute_result"
    }
   ],
   "source": [
    "# \"Exact\" eigvalues of matrix A, using the np.linalg.eig() function\n",
    "sympy.Matrix(np.linalg.eig(A)[0])"
   ]
  },
  {
   "cell_type": "markdown",
   "id": "888c48ac",
   "metadata": {},
   "source": [
    "### QR algorithm with simple shifts"
   ]
  },
  {
   "cell_type": "code",
   "execution_count": 11,
   "id": "e2327238",
   "metadata": {},
   "outputs": [],
   "source": [
    "def simple_shift_qr(A, tol, maxiter):\n",
    "    \"\"\"Uses the simple shift QR algorithm to approximate the \n",
    "    eigenvalues of the input matrix\"\"\"\n",
    "    n = A.shape[0]\n",
    "    sigma=A[n-1,n-1]\n",
    "    niter = 0\n",
    "    while np.linalg.norm(\n",
    "        np.tril(A-sigma*np.eye(n,n))-np.diag(np.diag(A-sigma*np.eye(n,n))), ord=2) \\\n",
    "        >= tol and niter<maxiter: \n",
    "        # we can use whatever norm we want due to the equivelance of operator norms in\n",
    "        # vector spaces of finite dimensions (frobenius norm, 2/1/inf-norm)\n",
    "        Q, R = qr_householder(A-sigma*np.eye(n,n))\n",
    "        A = R @ Q + sigma*np.eye(n,n)\n",
    "        sigma=A[n-1,n-1]\n",
    "        niter += 1\n",
    "    return [np.diag(A), n]"
   ]
  },
  {
   "cell_type": "code",
   "execution_count": 12,
   "id": "c4e7a281",
   "metadata": {},
   "outputs": [],
   "source": [
    "# Testing to see if everything is okay\n",
    "A = np.array([[8, 7, 7], [5, 8, 4], [2, 0, 8]])\n",
    "eigvals, iterations = simple_shift_qr(A, 1E-20, 100)"
   ]
  },
  {
   "cell_type": "code",
   "execution_count": 13,
   "id": "f4e427dd",
   "metadata": {},
   "outputs": [
    {
     "name": "stdout",
     "output_type": "stream",
     "text": [
      "Number of iterations it took to converge to the \n",
      "          specified tolerace: 3\n"
     ]
    }
   ],
   "source": [
    "print(f\"\"\"Number of iterations it took to converge to the \n",
    "          specified tolerace: {iterations}\"\"\")"
   ]
  },
  {
   "cell_type": "code",
   "execution_count": 14,
   "id": "f23030cf",
   "metadata": {},
   "outputs": [
    {
     "data": {
      "text/latex": [
       "$\\displaystyle \\left[\\begin{matrix}15.5135354931502\\\\1.66251756657081\\\\6.823946940279\\end{matrix}\\right]$"
      ],
      "text/plain": [
       "⎡15.5135354931502⎤\n",
       "⎢                ⎥\n",
       "⎢1.66251756657081⎥\n",
       "⎢                ⎥\n",
       "⎣ 6.823946940279 ⎦"
      ]
     },
     "execution_count": 14,
     "metadata": {},
     "output_type": "execute_result"
    }
   ],
   "source": [
    "# Approximation using the simple-shift QR algorithm\n",
    "sympy.Matrix(eigvals)"
   ]
  },
  {
   "cell_type": "code",
   "execution_count": 15,
   "id": "0118aa98",
   "metadata": {
    "scrolled": true
   },
   "outputs": [
    {
     "data": {
      "text/latex": [
       "$\\displaystyle \\left[\\begin{matrix}15.5135354931502\\\\1.66251756658343\\\\6.82394694026639\\end{matrix}\\right]$"
      ],
      "text/plain": [
       "⎡15.5135354931502⎤\n",
       "⎢                ⎥\n",
       "⎢1.66251756658343⎥\n",
       "⎢                ⎥\n",
       "⎣6.82394694026639⎦"
      ]
     },
     "execution_count": 15,
     "metadata": {},
     "output_type": "execute_result"
    }
   ],
   "source": [
    "# \"Exact\" eigvalues of matrix A, using the np.linalg.eig() function\n",
    "sympy.Matrix(np.linalg.eig(A)[0])"
   ]
  },
  {
   "cell_type": "markdown",
   "id": "25c7e398",
   "metadata": {},
   "source": [
    "### QR algorithm with Wilkinson shifts"
   ]
  },
  {
   "cell_type": "code",
   "execution_count": 16,
   "id": "c3ce3d6d",
   "metadata": {},
   "outputs": [],
   "source": [
    "def wilkinson_shift_qr(A, tol, maxiter):\n",
    "    \"\"\"Uses the Wilkinson shift QR algorithm to approximate the \n",
    "    eigenvalues of the input matrix\"\"\"\n",
    "    n = A.shape[0]\n",
    "    sub_matrix = A[n-2:n,n-2:n]\n",
    "    char_pol = [1, -np.trace(sub_matrix), np.linalg.det(sub_matrix)]\n",
    "    sigma=max(map(lambda x: abs(x), numpy.roots(char_pol)))\n",
    "    niter = 0\n",
    "    while np.linalg.norm(\n",
    "        np.tril(A-sigma*np.eye(n,n))-np.diag(np.diag(A-sigma*np.eye(n,n))), ord=2) \\\n",
    "        >= tol and niter<maxiter: \n",
    "        # we can use whatever norm we want due to the equivelance of operator norms in\n",
    "        # vector spaces of finite dimensions (frobenius norm, 2/1/inf-norm)\n",
    "        Q, R = qr_householder(A-sigma*np.eye(n,n))\n",
    "        A = R @ Q + sigma*np.eye(n,n)\n",
    "        sub_matrix = A[n-2:n,n-2:n]\n",
    "        char_pol = [1, -np.trace(sub_matrix), np.linalg.det(sub_matrix)]\n",
    "        sigma=max(map(lambda x: abs(x), numpy.roots(char_pol)))\n",
    "        niter += 1\n",
    "    return [np.diag(A), n]"
   ]
  },
  {
   "cell_type": "code",
   "execution_count": 17,
   "id": "d4e9e633",
   "metadata": {},
   "outputs": [],
   "source": [
    "# Testing to see if everything is okay\n",
    "A = np.array([[8, 7, 7], [5, 8, 4], [2, 0, 8]])\n",
    "eigvals, iterations = simple_shift_qr(A, 1E-20, 100)"
   ]
  },
  {
   "cell_type": "code",
   "execution_count": 18,
   "id": "9daccd8c",
   "metadata": {},
   "outputs": [
    {
     "name": "stdout",
     "output_type": "stream",
     "text": [
      "Number of iterations it took to converge to the \n",
      "          specified tolerace: 3\n"
     ]
    }
   ],
   "source": [
    "print(f\"\"\"Number of iterations it took to converge to the \n",
    "          specified tolerace: {iterations}\"\"\")"
   ]
  },
  {
   "cell_type": "code",
   "execution_count": 19,
   "id": "a5afa8e0",
   "metadata": {},
   "outputs": [
    {
     "data": {
      "text/latex": [
       "$\\displaystyle \\left[\\begin{matrix}15.5135354931502\\\\1.66251756657081\\\\6.823946940279\\end{matrix}\\right]$"
      ],
      "text/plain": [
       "⎡15.5135354931502⎤\n",
       "⎢                ⎥\n",
       "⎢1.66251756657081⎥\n",
       "⎢                ⎥\n",
       "⎣ 6.823946940279 ⎦"
      ]
     },
     "execution_count": 19,
     "metadata": {},
     "output_type": "execute_result"
    }
   ],
   "source": [
    "# Approximation using the simple-shift QR algorithm\n",
    "sympy.Matrix(eigvals)"
   ]
  },
  {
   "cell_type": "code",
   "execution_count": 20,
   "id": "018c9009",
   "metadata": {
    "scrolled": true
   },
   "outputs": [
    {
     "data": {
      "text/latex": [
       "$\\displaystyle \\left[\\begin{matrix}15.5135354931502\\\\1.66251756658343\\\\6.82394694026639\\end{matrix}\\right]$"
      ],
      "text/plain": [
       "⎡15.5135354931502⎤\n",
       "⎢                ⎥\n",
       "⎢1.66251756658343⎥\n",
       "⎢                ⎥\n",
       "⎣6.82394694026639⎦"
      ]
     },
     "execution_count": 20,
     "metadata": {},
     "output_type": "execute_result"
    }
   ],
   "source": [
    "# \"Exact\" eigvalues of matrix A, using the np.linalg.eig() function\n",
    "sympy.Matrix(np.linalg.eig(A)[0])"
   ]
  }
 ],
 "metadata": {
  "kernelspec": {
   "display_name": "Python 3",
   "language": "python",
   "name": "python3"
  },
  "language_info": {
   "codemirror_mode": {
    "name": "ipython",
    "version": 3
   },
   "file_extension": ".py",
   "mimetype": "text/x-python",
   "name": "python",
   "nbconvert_exporter": "python",
   "pygments_lexer": "ipython3",
   "version": "3.8.10"
  },
  "latex_envs": {
   "LaTeX_envs_menu_present": true,
   "autoclose": false,
   "autocomplete": true,
   "bibliofile": "biblio.bib",
   "cite_by": "apalike",
   "current_citInitial": 1,
   "eqLabelWithNumbers": true,
   "eqNumInitial": 1,
   "hotkeys": {
    "equation": "Ctrl-E",
    "itemize": "Ctrl-I"
   },
   "labels_anchors": false,
   "latex_user_defs": false,
   "report_style_numbering": false,
   "user_envs_cfg": false
  }
 },
 "nbformat": 4,
 "nbformat_minor": 5
}
